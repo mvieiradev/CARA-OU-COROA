{
  "nbformat": 4,
  "nbformat_minor": 0,
  "metadata": {
    "colab": {
      "provenance": [],
      "authorship_tag": "ABX9TyN+MCEgs6Qwj3dd0/sCExvh",
      "include_colab_link": true
    },
    "kernelspec": {
      "name": "python3",
      "display_name": "Python 3"
    },
    "language_info": {
      "name": "python"
    }
  },
  "cells": [
    {
      "cell_type": "markdown",
      "metadata": {
        "id": "view-in-github",
        "colab_type": "text"
      },
      "source": [
        "<a href=\"https://colab.research.google.com/github/mvieiradev/CARA-OU-COROA/blob/main/Cara_ou_coroa.ipynb\" target=\"_parent\"><img src=\"https://colab.research.google.com/assets/colab-badge.svg\" alt=\"Open In Colab\"/></a>"
      ]
    },
    {
      "cell_type": "code",
      "execution_count": null,
      "metadata": {
        "colab": {
          "base_uri": "https://localhost:8080/"
        },
        "id": "beXEFsc2oDOu",
        "outputId": "a9f37178-1b0b-4d5b-cf18-0bb619d2d860"
      },
      "outputs": [
        {
          "output_type": "stream",
          "name": "stdout",
          "text": [
            "CARA OU CORA: COROA\n",
            "COROA\n",
            "['COROA']\n"
          ]
        }
      ],
      "source": [
        "import numpy as np\n",
        "np.random.seed(123)\n",
        "outcomes = []\n",
        "print(input(\"CARA OU CORA: \"))\n",
        "for x in range(1):\n",
        "  coin = np.random.randint(0, 2)\n",
        "  if coin == 0:\n",
        "    outcomes.append(\"COROA\")\n",
        "  else :\n",
        "    outcomes.append(\"CARA\")   \n",
        "print( outcomes)"
      ]
    },
    {
      "cell_type": "code",
      "source": [],
      "metadata": {
        "id": "qYbTvL1poLRB"
      },
      "execution_count": null,
      "outputs": []
    }
  ]
}